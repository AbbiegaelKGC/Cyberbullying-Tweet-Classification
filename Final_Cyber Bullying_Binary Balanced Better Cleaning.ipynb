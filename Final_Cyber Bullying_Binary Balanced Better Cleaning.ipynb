{
 "cells": [
  {
   "cell_type": "code",
   "execution_count": 74,
   "id": "e613d292",
   "metadata": {},
   "outputs": [
    {
     "name": "stderr",
     "output_type": "stream",
     "text": [
      "[nltk_data] Downloading package punkt to\n",
      "[nltk_data]     C:\\Users\\abbie\\AppData\\Roaming\\nltk_data...\n",
      "[nltk_data]   Package punkt is already up-to-date!\n",
      "[nltk_data] Downloading package stopwords to\n",
      "[nltk_data]     C:\\Users\\abbie\\AppData\\Roaming\\nltk_data...\n",
      "[nltk_data]   Package stopwords is already up-to-date!\n"
     ]
    }
   ],
   "source": [
    "#!pip install wordcloud\n",
    "import numpy as np\n",
    "import pandas as pd\n",
    "#!pip install contractions\n",
    "import nltk\n",
    "nltk.download('punkt')  # For tokenization\n",
    "nltk.download('stopwords')  # For stopwords\n",
    "import string\n",
    "import contractions\n",
    "import re\n",
    "import random\n",
    "from nltk.stem import PorterStemmer\n",
    "from sklearn.feature_extraction.text import TfidfVectorizer\n",
    "from sklearn.decomposition import PCA, TruncatedSVD\n",
    "from wordcloud import WordCloud\n",
    "from nltk.tokenize import word_tokenize\n",
    "from nltk.corpus import stopwords\n",
    "\n",
    "#modelling\n",
    "from sklearn.preprocessing import LabelEncoder\n",
    "from sklearn.model_selection import train_test_split, RandomizedSearchCV\n",
    "from sklearn.ensemble import RandomForestClassifier\n",
    "from sklearn.linear_model import LogisticRegression\n",
    "from sklearn.pipeline import Pipeline\n",
    "from sklearn.naive_bayes import MultinomialNB\n",
    "\n",
    "#model evaluation\n",
    "from sklearn.metrics import classification_report, roc_curve, roc_auc_score, auc\n",
    "from sklearn.preprocessing import label_binarize\n",
    "\n",
    "from sklearn.metrics import confusion_matrix\n",
    "import matplotlib.pyplot as plt\n",
    "import seaborn as sns\n",
    "\n",
    "#!pip install tensorflow\n",
    "import tensorflow as tf\n",
    "from tensorflow.keras.models import Sequential\n",
    "from tensorflow.keras.layers import LSTM, Dense, Embedding, Dropout\n",
    "from tensorflow.keras.preprocessing.sequence import pad_sequences"
   ]
  },
  {
   "cell_type": "code",
   "execution_count": 2,
   "id": "ec368449",
   "metadata": {},
   "outputs": [],
   "source": [
    "df = pd.read_csv('cyberbullying_tweets.csv')"
   ]
  },
  {
   "cell_type": "code",
   "execution_count": 3,
   "id": "7073af5e",
   "metadata": {},
   "outputs": [
    {
     "data": {
      "text/html": [
       "<div>\n",
       "<style scoped>\n",
       "    .dataframe tbody tr th:only-of-type {\n",
       "        vertical-align: middle;\n",
       "    }\n",
       "\n",
       "    .dataframe tbody tr th {\n",
       "        vertical-align: top;\n",
       "    }\n",
       "\n",
       "    .dataframe thead th {\n",
       "        text-align: right;\n",
       "    }\n",
       "</style>\n",
       "<table border=\"1\" class=\"dataframe\">\n",
       "  <thead>\n",
       "    <tr style=\"text-align: right;\">\n",
       "      <th></th>\n",
       "      <th>tweet_text</th>\n",
       "      <th>cyberbullying_type</th>\n",
       "    </tr>\n",
       "  </thead>\n",
       "  <tbody>\n",
       "    <tr>\n",
       "      <th>0</th>\n",
       "      <td>In other words #katandandre, your food was cra...</td>\n",
       "      <td>not_cyberbullying</td>\n",
       "    </tr>\n",
       "    <tr>\n",
       "      <th>1</th>\n",
       "      <td>Why is #aussietv so white? #MKR #theblock #ImA...</td>\n",
       "      <td>not_cyberbullying</td>\n",
       "    </tr>\n",
       "    <tr>\n",
       "      <th>2</th>\n",
       "      <td>@XochitlSuckkks a classy whore? Or more red ve...</td>\n",
       "      <td>not_cyberbullying</td>\n",
       "    </tr>\n",
       "    <tr>\n",
       "      <th>3</th>\n",
       "      <td>@Jason_Gio meh. :P  thanks for the heads up, b...</td>\n",
       "      <td>not_cyberbullying</td>\n",
       "    </tr>\n",
       "    <tr>\n",
       "      <th>4</th>\n",
       "      <td>@RudhoeEnglish This is an ISIS account pretend...</td>\n",
       "      <td>not_cyberbullying</td>\n",
       "    </tr>\n",
       "  </tbody>\n",
       "</table>\n",
       "</div>"
      ],
      "text/plain": [
       "                                          tweet_text cyberbullying_type\n",
       "0  In other words #katandandre, your food was cra...  not_cyberbullying\n",
       "1  Why is #aussietv so white? #MKR #theblock #ImA...  not_cyberbullying\n",
       "2  @XochitlSuckkks a classy whore? Or more red ve...  not_cyberbullying\n",
       "3  @Jason_Gio meh. :P  thanks for the heads up, b...  not_cyberbullying\n",
       "4  @RudhoeEnglish This is an ISIS account pretend...  not_cyberbullying"
      ]
     },
     "execution_count": 3,
     "metadata": {},
     "output_type": "execute_result"
    }
   ],
   "source": [
    "df.head()"
   ]
  },
  {
   "cell_type": "code",
   "execution_count": 4,
   "id": "55ad86e0",
   "metadata": {},
   "outputs": [
    {
     "data": {
      "text/plain": [
       "Index(['tweet_text', 'cyberbullying_type'], dtype='object')"
      ]
     },
     "execution_count": 4,
     "metadata": {},
     "output_type": "execute_result"
    }
   ],
   "source": [
    "df.columns"
   ]
  },
  {
   "cell_type": "code",
   "execution_count": 5,
   "id": "692d17f2",
   "metadata": {},
   "outputs": [
    {
     "data": {
      "text/plain": [
       "cyberbullying_type\n",
       "religion               7998\n",
       "age                    7992\n",
       "gender                 7973\n",
       "ethnicity              7961\n",
       "not_cyberbullying      7945\n",
       "other_cyberbullying    7823\n",
       "Name: count, dtype: int64"
      ]
     },
     "execution_count": 5,
     "metadata": {},
     "output_type": "execute_result"
    }
   ],
   "source": [
    "df['cyberbullying_type'].value_counts()"
   ]
  },
  {
   "cell_type": "code",
   "execution_count": 6,
   "id": "b9ac3628",
   "metadata": {},
   "outputs": [
    {
     "name": "stdout",
     "output_type": "stream",
     "text": [
      "['not_cyberbullying', 'gender', 'religion', 'other_cyberbullying', 'age', 'ethnicity']\n"
     ]
    }
   ],
   "source": [
    "types = []\n",
    "\n",
    "for i in df['cyberbullying_type'].unique():\n",
    "    types.append(i)\n",
    "    \n",
    "print(types)"
   ]
  },
  {
   "cell_type": "code",
   "execution_count": 7,
   "id": "9ce0fbe6",
   "metadata": {},
   "outputs": [],
   "source": [
    "df['hate_speech'] = df['cyberbullying_type'].apply(lambda x: 1 if x in types[1:] else 0)"
   ]
  },
  {
   "cell_type": "code",
   "execution_count": 8,
   "id": "6c049b6c",
   "metadata": {},
   "outputs": [
    {
     "data": {
      "text/plain": [
       "hate_speech\n",
       "1    39747\n",
       "0     7945\n",
       "Name: count, dtype: int64"
      ]
     },
     "execution_count": 8,
     "metadata": {},
     "output_type": "execute_result"
    }
   ],
   "source": [
    "df['hate_speech'].value_counts()"
   ]
  },
  {
   "cell_type": "code",
   "execution_count": 9,
   "id": "d073fdbb",
   "metadata": {},
   "outputs": [],
   "source": [
    "num_zeros = df[df['hate_speech'] == 0].shape[0]"
   ]
  },
  {
   "cell_type": "code",
   "execution_count": 10,
   "id": "120fcbf3",
   "metadata": {},
   "outputs": [],
   "source": [
    "sampled_ones = df[df['hate_speech'] == 1].sample(n=num_zeros, random_state=42)"
   ]
  },
  {
   "cell_type": "code",
   "execution_count": 11,
   "id": "0f259a1d",
   "metadata": {},
   "outputs": [
    {
     "data": {
      "text/plain": [
       "Index(['tweet_text', 'cyberbullying_type', 'hate_speech'], dtype='object')"
      ]
     },
     "execution_count": 11,
     "metadata": {},
     "output_type": "execute_result"
    }
   ],
   "source": [
    "sampled_ones.columns"
   ]
  },
  {
   "cell_type": "code",
   "execution_count": 12,
   "id": "243e4d48",
   "metadata": {},
   "outputs": [],
   "source": [
    "df = pd.concat([df[df['hate_speech'] == 0], sampled_ones], axis=0)"
   ]
  },
  {
   "cell_type": "code",
   "execution_count": 13,
   "id": "cdd1a7ae",
   "metadata": {},
   "outputs": [
    {
     "data": {
      "text/plain": [
       "(15890, 3)"
      ]
     },
     "execution_count": 13,
     "metadata": {},
     "output_type": "execute_result"
    }
   ],
   "source": [
    "df.shape"
   ]
  },
  {
   "cell_type": "code",
   "execution_count": 14,
   "id": "77a26e4d",
   "metadata": {},
   "outputs": [
    {
     "name": "stdout",
     "output_type": "stream",
     "text": [
      "<class 'pandas.core.frame.DataFrame'>\n",
      "Index: 15890 entries, 0 to 47441\n",
      "Data columns (total 3 columns):\n",
      " #   Column              Non-Null Count  Dtype \n",
      "---  ------              --------------  ----- \n",
      " 0   tweet_text          15890 non-null  object\n",
      " 1   cyberbullying_type  15890 non-null  object\n",
      " 2   hate_speech         15890 non-null  int64 \n",
      "dtypes: int64(1), object(2)\n",
      "memory usage: 496.6+ KB\n"
     ]
    }
   ],
   "source": [
    "df.info()"
   ]
  },
  {
   "cell_type": "code",
   "execution_count": 15,
   "id": "f95f2595",
   "metadata": {},
   "outputs": [
    {
     "data": {
      "text/html": [
       "<div>\n",
       "<style scoped>\n",
       "    .dataframe tbody tr th:only-of-type {\n",
       "        vertical-align: middle;\n",
       "    }\n",
       "\n",
       "    .dataframe tbody tr th {\n",
       "        vertical-align: top;\n",
       "    }\n",
       "\n",
       "    .dataframe thead th {\n",
       "        text-align: right;\n",
       "    }\n",
       "</style>\n",
       "<table border=\"1\" class=\"dataframe\">\n",
       "  <thead>\n",
       "    <tr style=\"text-align: right;\">\n",
       "      <th></th>\n",
       "      <th>tweet_text</th>\n",
       "      <th>cyberbullying_type</th>\n",
       "      <th>hate_speech</th>\n",
       "    </tr>\n",
       "  </thead>\n",
       "  <tbody>\n",
       "    <tr>\n",
       "      <th>0</th>\n",
       "      <td>In other words #katandandre, your food was cra...</td>\n",
       "      <td>not_cyberbullying</td>\n",
       "      <td>0</td>\n",
       "    </tr>\n",
       "    <tr>\n",
       "      <th>1</th>\n",
       "      <td>Why is #aussietv so white? #MKR #theblock #ImA...</td>\n",
       "      <td>not_cyberbullying</td>\n",
       "      <td>0</td>\n",
       "    </tr>\n",
       "    <tr>\n",
       "      <th>2</th>\n",
       "      <td>@XochitlSuckkks a classy whore? Or more red ve...</td>\n",
       "      <td>not_cyberbullying</td>\n",
       "      <td>0</td>\n",
       "    </tr>\n",
       "    <tr>\n",
       "      <th>3</th>\n",
       "      <td>@Jason_Gio meh. :P  thanks for the heads up, b...</td>\n",
       "      <td>not_cyberbullying</td>\n",
       "      <td>0</td>\n",
       "    </tr>\n",
       "    <tr>\n",
       "      <th>4</th>\n",
       "      <td>@RudhoeEnglish This is an ISIS account pretend...</td>\n",
       "      <td>not_cyberbullying</td>\n",
       "      <td>0</td>\n",
       "    </tr>\n",
       "  </tbody>\n",
       "</table>\n",
       "</div>"
      ],
      "text/plain": [
       "                                          tweet_text cyberbullying_type  \\\n",
       "0  In other words #katandandre, your food was cra...  not_cyberbullying   \n",
       "1  Why is #aussietv so white? #MKR #theblock #ImA...  not_cyberbullying   \n",
       "2  @XochitlSuckkks a classy whore? Or more red ve...  not_cyberbullying   \n",
       "3  @Jason_Gio meh. :P  thanks for the heads up, b...  not_cyberbullying   \n",
       "4  @RudhoeEnglish This is an ISIS account pretend...  not_cyberbullying   \n",
       "\n",
       "   hate_speech  \n",
       "0            0  \n",
       "1            0  \n",
       "2            0  \n",
       "3            0  \n",
       "4            0  "
      ]
     },
     "execution_count": 15,
     "metadata": {},
     "output_type": "execute_result"
    }
   ],
   "source": [
    "df.head()"
   ]
  },
  {
   "cell_type": "markdown",
   "id": "cd2164be",
   "metadata": {},
   "source": [
    "# Pre-Processing"
   ]
  },
  {
   "cell_type": "code",
   "execution_count": 16,
   "id": "3feaab05",
   "metadata": {},
   "outputs": [],
   "source": [
    "ps = PorterStemmer()\n",
    "STOP_WORDS = set(stopwords.words('english'))\n",
    "\n",
    "EMOTICONS = {\n",
    "    u':‑)':'Happy face or smiley',\n",
    "    u':)':'Happy face or smiley',\n",
    "    u':-]':'Happy face or smiley',\n",
    "    u':]':'Happy face or smiley',\n",
    "    u':-3':'Happy face smiley',\n",
    "    u':3':'Happy face smiley',\n",
    "    u':->':'Happy face smiley',\n",
    "    u':>':'Happy face smiley',\n",
    "    u'8-)':'Happy face smiley',\n",
    "    u':o)':'Happy face smiley',\n",
    "    u':-}':'Happy face smiley',\n",
    "    u':}':'Happy face smiley',\n",
    "    u':-)':'Happy face smiley',\n",
    "    u':c)':'Happy face smiley',\n",
    "    u':^)':'Happy face smiley',\n",
    "    u'=]':'Happy face smiley',\n",
    "    u': P':'Happy face smiley',\n",
    "    u':P':'Happy face smiley'\n",
    "    }\n",
    "\n",
    "def strip_emoji(text):\n",
    "    emoji_pattern = re.compile(\"[\"\n",
    "                           u\"\\U0001F600-\\U0001F64F\"  # emoticons\n",
    "                           u\"\\U0001F300-\\U0001F5FF\"  # symbols & pictographs\n",
    "                           u\"\\U0001F680-\\U0001F6FF\"  # transport & map symbols\n",
    "                           u\"\\U0001F1E0-\\U0001F1FF\"  # flags (iOS)\n",
    "                           u\"\\U00002500-\\U00002BEF\"  # chinese characters\n",
    "                           u\"\\U00002702-\\U000027B0\"\n",
    "                           u\"\\U00002702-\\U000027B0\"\n",
    "                           u\"\\U000024C2-\\U0001F251\"\n",
    "                           u\"\\U0001f926-\\U0001f937\"\n",
    "                           u\"\\U00010000-\\U0010ffff\"\n",
    "                           u\"\\u2640-\\u2642\" \n",
    "                           u\"\\u2600-\\u2B55\"\n",
    "                           u\"\\u200d\"\n",
    "                           u\"\\u23cf\"\n",
    "                           u\"\\u23e9\"\n",
    "                           u\"\\u231a\"\n",
    "                           u\"\\ufe0f\"  # dingbats\n",
    "                           u\"\\u3030\"\n",
    "                           \"]+\", flags=re.UNICODE)\n",
    "    return emoji_pattern.sub(r'', text)\n",
    "\n",
    "def clean_text(text):\n",
    "    text = strip_emoji(text)\n",
    "    # Remove Twitter handles\n",
    "    text = re.sub(r'@\\w+', '', text)\n",
    "    \n",
    "    # Convert to lowercase\n",
    "    text = text.lower()\n",
    "    \n",
    "    # Remove punctuation\n",
    "    text = ''.join([char for char in text if char not in string.punctuation])\n",
    "    \n",
    "    # Remove numbers\n",
    "    text = ''.join([i for i in text if not i.isdigit()])\n",
    "    \n",
    "    # Remove URLs\n",
    "    text = re.sub(r'http\\S+|www\\S+|https\\S+', '', text, flags=re.MULTILINE)\n",
    "    \n",
    "    # Optionally: Stemming and removing stopwords (if not handled by the pipeline)\n",
    "    text = ' '.join([ps.stem(word) for word in text.split() if word not in STOP_WORDS and len(word) > 2])\n",
    "    \n",
    "    return text"
   ]
  },
  {
   "cell_type": "code",
   "execution_count": 17,
   "id": "9bf36b72",
   "metadata": {},
   "outputs": [],
   "source": [
    "df['text'] = df['tweet_text'].astype(str)\n",
    "df['text'] = df['text'].apply(clean_text)"
   ]
  },
  {
   "cell_type": "code",
   "execution_count": 18,
   "id": "08575090",
   "metadata": {},
   "outputs": [
    {
     "data": {
      "text/plain": [
       "0                    word katandandr food crapilici mkr\n",
       "1     aussietv white mkr theblock imacelebrityau tod...\n",
       "2                        classi whore red velvet cupcak\n",
       "3       meh thank head concern anoth angri dude twitter\n",
       "4     isi account pretend kurdish account like islam...\n",
       "5     ye test god good bad indiffer weird whatev pro...\n",
       "6       itu sekolah bukan tempat bulli jauh kaya neraka\n",
       "7                    karma hope bite kat butt nasti mkr\n",
       "8                                 everyth mostli priest\n",
       "9                   rebecca black drop school due bulli\n",
       "10                                                     \n",
       "11                                          bulli flush\n",
       "12                                           ughhhh mkr\n",
       "13    turkish state kill children last year news goo...\n",
       "14    love best respons hotcak manag film noncommitt...\n",
       "15         parem fazer bulli comigo uhahuah bando preto\n",
       "16                   tadinhu mim sofrendo bull viu mimi\n",
       "17                     twitter basic angri letter gener\n",
       "18    best pick line your cute love peopl call jame ...\n",
       "19      gotta walk classss offici hate stupid bu system\n",
       "Name: text, dtype: object"
      ]
     },
     "execution_count": 18,
     "metadata": {},
     "output_type": "execute_result"
    }
   ],
   "source": [
    "df['text'].head(20)"
   ]
  },
  {
   "cell_type": "code",
   "execution_count": 19,
   "id": "d8853c59",
   "metadata": {},
   "outputs": [
    {
     "data": {
      "text/html": [
       "<div>\n",
       "<style scoped>\n",
       "    .dataframe tbody tr th:only-of-type {\n",
       "        vertical-align: middle;\n",
       "    }\n",
       "\n",
       "    .dataframe tbody tr th {\n",
       "        vertical-align: top;\n",
       "    }\n",
       "\n",
       "    .dataframe thead th {\n",
       "        text-align: right;\n",
       "    }\n",
       "</style>\n",
       "<table border=\"1\" class=\"dataframe\">\n",
       "  <thead>\n",
       "    <tr style=\"text-align: right;\">\n",
       "      <th></th>\n",
       "      <th>tweet_text</th>\n",
       "      <th>cyberbullying_type</th>\n",
       "      <th>hate_speech</th>\n",
       "      <th>text</th>\n",
       "    </tr>\n",
       "  </thead>\n",
       "  <tbody>\n",
       "    <tr>\n",
       "      <th>0</th>\n",
       "      <td>In other words #katandandre, your food was cra...</td>\n",
       "      <td>not_cyberbullying</td>\n",
       "      <td>0</td>\n",
       "      <td>word katandandr food crapilici mkr</td>\n",
       "    </tr>\n",
       "    <tr>\n",
       "      <th>1</th>\n",
       "      <td>Why is #aussietv so white? #MKR #theblock #ImA...</td>\n",
       "      <td>not_cyberbullying</td>\n",
       "      <td>0</td>\n",
       "      <td>aussietv white mkr theblock imacelebrityau tod...</td>\n",
       "    </tr>\n",
       "    <tr>\n",
       "      <th>2</th>\n",
       "      <td>@XochitlSuckkks a classy whore? Or more red ve...</td>\n",
       "      <td>not_cyberbullying</td>\n",
       "      <td>0</td>\n",
       "      <td>classi whore red velvet cupcak</td>\n",
       "    </tr>\n",
       "    <tr>\n",
       "      <th>3</th>\n",
       "      <td>@Jason_Gio meh. :P  thanks for the heads up, b...</td>\n",
       "      <td>not_cyberbullying</td>\n",
       "      <td>0</td>\n",
       "      <td>meh thank head concern anoth angri dude twitter</td>\n",
       "    </tr>\n",
       "    <tr>\n",
       "      <th>4</th>\n",
       "      <td>@RudhoeEnglish This is an ISIS account pretend...</td>\n",
       "      <td>not_cyberbullying</td>\n",
       "      <td>0</td>\n",
       "      <td>isi account pretend kurdish account like islam...</td>\n",
       "    </tr>\n",
       "  </tbody>\n",
       "</table>\n",
       "</div>"
      ],
      "text/plain": [
       "                                          tweet_text cyberbullying_type  \\\n",
       "0  In other words #katandandre, your food was cra...  not_cyberbullying   \n",
       "1  Why is #aussietv so white? #MKR #theblock #ImA...  not_cyberbullying   \n",
       "2  @XochitlSuckkks a classy whore? Or more red ve...  not_cyberbullying   \n",
       "3  @Jason_Gio meh. :P  thanks for the heads up, b...  not_cyberbullying   \n",
       "4  @RudhoeEnglish This is an ISIS account pretend...  not_cyberbullying   \n",
       "\n",
       "   hate_speech                                               text  \n",
       "0            0                 word katandandr food crapilici mkr  \n",
       "1            0  aussietv white mkr theblock imacelebrityau tod...  \n",
       "2            0                     classi whore red velvet cupcak  \n",
       "3            0    meh thank head concern anoth angri dude twitter  \n",
       "4            0  isi account pretend kurdish account like islam...  "
      ]
     },
     "execution_count": 19,
     "metadata": {},
     "output_type": "execute_result"
    }
   ],
   "source": [
    "df.head()"
   ]
  },
  {
   "cell_type": "markdown",
   "id": "c8254b39",
   "metadata": {},
   "source": [
    "# Model for Binary\n",
    "\n",
    "Naive Bayes, Logistic Regression, and Random Forest\n"
   ]
  },
  {
   "cell_type": "code",
   "execution_count": 20,
   "id": "ecc32dd4",
   "metadata": {},
   "outputs": [],
   "source": [
    "vec = TfidfVectorizer()\n",
    "le = LabelEncoder()"
   ]
  },
  {
   "cell_type": "code",
   "execution_count": 21,
   "id": "d129812f",
   "metadata": {},
   "outputs": [],
   "source": [
    "X = df['text']\n",
    "y = df['hate_speech']"
   ]
  },
  {
   "cell_type": "code",
   "execution_count": 22,
   "id": "560ee5d5",
   "metadata": {},
   "outputs": [],
   "source": [
    "y = le.fit_transform(y)"
   ]
  },
  {
   "cell_type": "code",
   "execution_count": 23,
   "id": "4865b045",
   "metadata": {},
   "outputs": [],
   "source": [
    "X_train, X_test, y_train, y_test = train_test_split(X, y, test_size=0.2, random_state=42)"
   ]
  },
  {
   "cell_type": "code",
   "execution_count": 24,
   "id": "f2e1b755",
   "metadata": {},
   "outputs": [],
   "source": [
    "#Random Forest\n",
    "pipeline_rf = Pipeline([\n",
    "    ('tfidf', TfidfVectorizer(max_features=5000)),\n",
    "    ('svd', TruncatedSVD(n_components=100)),\n",
    "    ('clf', RandomForestClassifier())\n",
    "    ])"
   ]
  },
  {
   "cell_type": "code",
   "execution_count": 25,
   "id": "6a3f7932",
   "metadata": {},
   "outputs": [],
   "source": [
    "pipeline_rf.fit(X_train, y_train)\n",
    "predictions_rf = pipeline_rf.predict(X_test)"
   ]
  },
  {
   "cell_type": "code",
   "execution_count": 26,
   "id": "1ea5adfb",
   "metadata": {},
   "outputs": [],
   "source": [
    "#logistic Regression\n",
    "\n",
    "pipeline_lr = Pipeline([\n",
    "    ('tfidf', TfidfVectorizer(max_features=5000)),\n",
    "    ('svd', TruncatedSVD(n_components=100)),\n",
    "    ('clf', LogisticRegression(max_iter=10000))\n",
    "])\n"
   ]
  },
  {
   "cell_type": "code",
   "execution_count": 27,
   "id": "8aa1e182",
   "metadata": {},
   "outputs": [],
   "source": [
    "pipeline_lr.fit(X_train, y_train)\n",
    "predictions_lr = pipeline_lr.predict(X_test)"
   ]
  },
  {
   "cell_type": "code",
   "execution_count": 28,
   "id": "a6b3f123",
   "metadata": {},
   "outputs": [],
   "source": [
    "# Naive Bayes\n",
    "pipeline_nb = Pipeline([\n",
    "    ('tfidf', TfidfVectorizer(max_features=5000)),\n",
    "    ('clf', MultinomialNB())\n",
    "])"
   ]
  },
  {
   "cell_type": "code",
   "execution_count": 29,
   "id": "15a244f8",
   "metadata": {},
   "outputs": [],
   "source": [
    "pipeline_nb.fit(X_train, y_train)\n",
    "predictions_nb = pipeline_nb.predict(X_test)"
   ]
  },
  {
   "cell_type": "code",
   "execution_count": 30,
   "id": "31272193",
   "metadata": {},
   "outputs": [
    {
     "name": "stdout",
     "output_type": "stream",
     "text": [
      "RF Classification Report:\n",
      "              precision    recall  f1-score   support\n",
      "\n",
      "           0       0.79      0.83      0.81      1576\n",
      "           1       0.82      0.78      0.80      1602\n",
      "\n",
      "    accuracy                           0.81      3178\n",
      "   macro avg       0.81      0.81      0.81      3178\n",
      "weighted avg       0.81      0.81      0.81      3178\n",
      "\n",
      "\n",
      "Logistic Regression Classification Report:\n",
      "              precision    recall  f1-score   support\n",
      "\n",
      "           0       0.77      0.89      0.82      1576\n",
      "           1       0.87      0.74      0.80      1602\n",
      "\n",
      "    accuracy                           0.81      3178\n",
      "   macro avg       0.82      0.81      0.81      3178\n",
      "weighted avg       0.82      0.81      0.81      3178\n",
      "\n",
      "\n",
      "Naive Bayes Classification Report:\n",
      "              precision    recall  f1-score   support\n",
      "\n",
      "           0       0.82      0.72      0.77      1576\n",
      "           1       0.76      0.84      0.79      1602\n",
      "\n",
      "    accuracy                           0.78      3178\n",
      "   macro avg       0.79      0.78      0.78      3178\n",
      "weighted avg       0.79      0.78      0.78      3178\n",
      "\n"
     ]
    }
   ],
   "source": [
    "# Model Evaluation\n",
    "print(\"RF Classification Report:\")\n",
    "print(classification_report(y_test,predictions_rf))\n",
    "\n",
    "print(\"\\nLogistic Regression Classification Report:\")\n",
    "print(classification_report(y_test, predictions_lr))\n",
    "\n",
    "print(\"\\nNaive Bayes Classification Report:\")\n",
    "print(classification_report(y_test, predictions_nb))"
   ]
  },
  {
   "cell_type": "code",
   "execution_count": 31,
   "id": "f1fdc730",
   "metadata": {},
   "outputs": [],
   "source": [
    "def plot_confusion_matrix(cm, title):\n",
    "    plt.figure(figsize=(8,6))\n",
    "    sns.heatmap(cm, annot=True, fmt='d', cmap='Blues', xticklabels=['Predicted 0', 'Predicted 1'], yticklabels=['Actual 0', 'Actual 1'])\n",
    "    plt.ylabel('Actual')\n",
    "    plt.xlabel('Predicted')\n",
    "    plt.title(title)"
   ]
  },
  {
   "cell_type": "code",
   "execution_count": 32,
   "id": "f1bce26b",
   "metadata": {},
   "outputs": [
    {
     "data": {
      "image/png": "[encoded data removed]",
      "text/plain": [
       "<Figure size 800x600 with 2 Axes>"
      ]
     },
     "metadata": {},
     "output_type": "display_data"
    },
    {
     "data": {
      "image/png": "[encoded data removed]",
      "text/plain": [
       "<Figure size 800x600 with 2 Axes>"
      ]
     },
     "metadata": {},
     "output_type": "display_data"
    },
    {
     "data": {
      "image/png": "[encoded data removed]",
      "text/plain": [
       "<Figure size 800x600 with 2 Axes>"
      ]
     },
     "metadata": {},
     "output_type": "display_data"
    }
   ],
   "source": [
    "# Random Forest Confusion Matrix\n",
    "cm_rf = confusion_matrix(y_test, predictions_rf)\n",
    "plot_confusion_matrix(cm_rf, 'Random Forest Confusion Matrix')\n",
    "\n",
    "# Logistic Regression Confusion Matrix\n",
    "cm_lr = confusion_matrix(y_test, predictions_lr)\n",
    "plot_confusion_matrix(cm_lr, 'Logistic Regression Confusion Matrix')\n",
    "\n",
    "# Naive Bayes Confusion Matrix\n",
    "cm_nb = confusion_matrix(y_test, predictions_nb)\n",
    "plot_confusion_matrix(cm_nb, 'Naive Bayes Confusion Matrix')\n",
    "\n",
    "plt.show()\n"
   ]
  },
  {
   "cell_type": "markdown",
   "id": "49de160e",
   "metadata": {},
   "source": [
    "# Text-Specific Paramter Tuning"
   ]
  },
  {
   "cell_type": "code",
   "execution_count": 33,
   "id": "25fbebe2",
   "metadata": {},
   "outputs": [],
   "source": [
    "#Random Forest\n",
    "pipeline_rf = Pipeline([\n",
    "    ('tfidf', TfidfVectorizer(max_features=10000,\n",
    "                              ngram_range=(1, 2),          \n",
    "                              max_df=0.9)), \n",
    "    ('svd', TruncatedSVD(n_components=100)),\n",
    "    ('clf', RandomForestClassifier())\n",
    "    ])\n",
    "\n",
    "pipeline_rf.fit(X_train, y_train)\n",
    "predictions_rf = pipeline_rf.predict(X_test)\n",
    "\n",
    "#logistic Regression\n",
    "\n",
    "pipeline_lr = Pipeline([\n",
    "    ('tfidf', TfidfVectorizer(max_features=10000,\n",
    "                              ngram_range=(1, 2),      \n",
    "                              max_df=0.9)), \n",
    "    ('svd', TruncatedSVD(n_components=100)),\n",
    "    ('clf', LogisticRegression(max_iter=10000))\n",
    "])\n",
    "pipeline_lr.fit(X_train, y_train)\n",
    "predictions_lr = pipeline_lr.predict(X_test)\n",
    "\n",
    "# Naive Bayes\n",
    "pipeline_nb = Pipeline([\n",
    "    ('tfidf', TfidfVectorizer(max_features=10000,\n",
    "                              ngram_range=(1, 2),      \n",
    "                              max_df=0.9)), \n",
    "    ('clf', MultinomialNB())\n",
    "])\n",
    "pipeline_nb.fit(X_train, y_train)\n",
    "predictions_nb = pipeline_nb.predict(X_test)"
   ]
  },
  {
   "cell_type": "code",
   "execution_count": 34,
   "id": "bf2bf586",
   "metadata": {},
   "outputs": [
    {
     "name": "stdout",
     "output_type": "stream",
     "text": [
      "RF Classification Report:\n",
      "              precision    recall  f1-score   support\n",
      "\n",
      "           0       0.79      0.84      0.81      1576\n",
      "           1       0.83      0.78      0.80      1602\n",
      "\n",
      "    accuracy                           0.81      3178\n",
      "   macro avg       0.81      0.81      0.81      3178\n",
      "weighted avg       0.81      0.81      0.81      3178\n",
      "\n",
      "\n",
      "Logistic Regression Classification Report:\n",
      "              precision    recall  f1-score   support\n",
      "\n",
      "           0       0.78      0.88      0.83      1576\n",
      "           1       0.87      0.75      0.80      1602\n",
      "\n",
      "    accuracy                           0.82      3178\n",
      "   macro avg       0.82      0.82      0.82      3178\n",
      "weighted avg       0.82      0.82      0.82      3178\n",
      "\n",
      "\n",
      "Naive Bayes Classification Report:\n",
      "              precision    recall  f1-score   support\n",
      "\n",
      "           0       0.81      0.76      0.78      1576\n",
      "           1       0.78      0.83      0.80      1602\n",
      "\n",
      "    accuracy                           0.79      3178\n",
      "   macro avg       0.79      0.79      0.79      3178\n",
      "weighted avg       0.79      0.79      0.79      3178\n",
      "\n"
     ]
    }
   ],
   "source": [
    "# Model Evaluation\n",
    "print(\"RF Classification Report:\")\n",
    "print(classification_report(y_test,predictions_rf))\n",
    "\n",
    "print(\"\\nLogistic Regression Classification Report:\")\n",
    "print(classification_report(y_test, predictions_lr))\n",
    "\n",
    "print(\"\\nNaive Bayes Classification Report:\")\n",
    "print(classification_report(y_test, predictions_nb))"
   ]
  },
  {
   "cell_type": "markdown",
   "id": "6eb4dc16",
   "metadata": {},
   "source": [
    "# Part 2: Better Preprocessing"
   ]
  },
  {
   "cell_type": "code",
   "execution_count": 35,
   "id": "51150650",
   "metadata": {},
   "outputs": [],
   "source": [
    "df = pd.read_csv('cyberbullying_tweets.csv')"
   ]
  },
  {
   "cell_type": "code",
   "execution_count": 36,
   "id": "79ede681",
   "metadata": {},
   "outputs": [
    {
     "data": {
      "text/plain": [
       "(47692, 2)"
      ]
     },
     "execution_count": 36,
     "metadata": {},
     "output_type": "execute_result"
    }
   ],
   "source": [
    "df.shape"
   ]
  },
  {
   "cell_type": "code",
   "execution_count": 37,
   "id": "c3247539",
   "metadata": {},
   "outputs": [],
   "source": [
    "df.drop_duplicates(subset='tweet_text',keep='first', inplace=True)"
   ]
  },
  {
   "cell_type": "code",
   "execution_count": 38,
   "id": "86952846",
   "metadata": {},
   "outputs": [
    {
     "data": {
      "text/plain": [
       "(46017, 2)"
      ]
     },
     "execution_count": 38,
     "metadata": {},
     "output_type": "execute_result"
    }
   ],
   "source": [
    "df.shape"
   ]
  },
  {
   "cell_type": "code",
   "execution_count": 39,
   "id": "046d63b7",
   "metadata": {},
   "outputs": [
    {
     "data": {
      "text/plain": [
       "<Axes: xlabel='length', ylabel='Density'>"
      ]
     },
     "execution_count": 39,
     "metadata": {},
     "output_type": "execute_result"
    },
    {
     "data": {
      "image/png": "[encoded data removed]",
      "text/plain": [
       "<Figure size 640x480 with 1 Axes>"
      ]
     },
     "metadata": {},
     "output_type": "display_data"
    }
   ],
   "source": [
    "df['length'] = df['tweet_text'].apply(len)\n",
    "df.head()\n",
    "\n",
    "# Plot Distribution length words\n",
    "sns.kdeplot(df,x=df['length'],hue='cyberbullying_type',fill=True)"
   ]
  },
  {
   "cell_type": "code",
   "execution_count": 40,
   "id": "83da14a9",
   "metadata": {},
   "outputs": [],
   "source": [
    "from collections import Counter\n",
    "import re\n",
    "\n",
    "import nltk\n",
    "from nltk.corpus import stopwords"
   ]
  },
  {
   "cell_type": "code",
   "execution_count": 41,
   "id": "a63abce4",
   "metadata": {},
   "outputs": [],
   "source": [
    "# Concatenate all tweet texts into a single string\n",
    "all_text = ' '.join(df['tweet_text'].values)\n",
    "# Remove URLs, mentions, and hashtags from the text\n",
    "all_text = re.sub(r'http\\S+', '', all_text)\n",
    "all_text = re.sub(r'@\\S+', '', all_text)\n",
    "all_text = re.sub(r'#\\S+', '', all_text)\n",
    "# Split the text into individual words\n",
    "words = all_text.split()"
   ]
  },
  {
   "cell_type": "code",
   "execution_count": 42,
   "id": "2f8cad6e",
   "metadata": {},
   "outputs": [
    {
     "data": {
      "text/plain": [
       "[('the', 27075),\n",
       " ('a', 22884),\n",
       " ('to', 22130),\n",
       " ('and', 19468),\n",
       " ('I', 15578),\n",
       " ('of', 14727),\n",
       " ('in', 13851),\n",
       " ('you', 13819),\n",
       " ('is', 12884),\n",
       " ('that', 10059),\n",
       " ('are', 8312),\n",
       " ('for', 8016),\n",
       " ('school', 6681),\n",
       " ('was', 6229),\n",
       " ('me', 6207),\n",
       " ('not', 6116),\n",
       " ('my', 5706),\n",
       " ('it', 5627),\n",
       " ('on', 5613),\n",
       " ('like', 5178),\n",
       " ('be', 5120),\n",
       " ('who', 5055),\n",
       " ('with', 5012),\n",
       " ('but', 4908),\n",
       " ('about', 4645),\n",
       " ('high', 4640),\n",
       " ('they', 4500),\n",
       " ('have', 4491),\n",
       " ('this', 4459),\n",
       " ('dumb', 4384),\n",
       " ('bullied', 4266),\n",
       " ('as', 4117),\n",
       " ('all', 4080),\n",
       " ('RT', 4046),\n",
       " ('i', 4008),\n",
       " ('just', 3748),\n",
       " ('your', 3732),\n",
       " ('people', 3725),\n",
       " ('so', 3561),\n",
       " ('at', 3383),\n",
       " ('u', 3235),\n",
       " ('or', 3156),\n",
       " ('by', 3102),\n",
       " ('rape', 3020),\n",
       " ('fuck', 3012),\n",
       " ('if', 2799),\n",
       " ('when', 2777),\n",
       " ('one', 2749),\n",
       " ('bully', 2724),\n",
       " ('from', 2713),\n",
       " ('gay', 2685),\n",
       " ('he', 2675),\n",
       " ('do', 2620),\n",
       " ('an', 2565),\n",
       " ('&amp;', 2560),\n",
       " ('up', 2518),\n",
       " ('being', 2502),\n",
       " ('what', 2491),\n",
       " ('The', 2488),\n",
       " ('You', 2463),\n",
       " ('nigger', 2441),\n",
       " ('ass', 2435),\n",
       " ('get', 2433),\n",
       " ('girls', 2367),\n",
       " ('can', 2288),\n",
       " ('girl', 2270),\n",
       " ('because', 2256),\n",
       " ('no', 2239),\n",
       " ('out', 2238),\n",
       " ('her', 2235),\n",
       " (\"I'm\", 2225),\n",
       " (\"don't\", 2224),\n",
       " ('we', 2211),\n",
       " ('their', 2156),\n",
       " ('jokes', 2068),\n",
       " ('will', 2053),\n",
       " ('how', 2051),\n",
       " ('she', 2050),\n",
       " ('them', 1981),\n",
       " ('know', 1973),\n",
       " ('would', 1918),\n",
       " ('think', 1909),\n",
       " ('black', 1865),\n",
       " ('were', 1829),\n",
       " ('has', 1790),\n",
       " ('his', 1768),\n",
       " ('white', 1634),\n",
       " ('got', 1559),\n",
       " ('say', 1494),\n",
       " ('FUCK', 1494),\n",
       " ('make', 1476),\n",
       " ('some', 1474),\n",
       " ('call', 1470),\n",
       " ('now', 1450),\n",
       " ('Muslim', 1421),\n",
       " ('even', 1413),\n",
       " ('called', 1413),\n",
       " (\"it's\", 1409),\n",
       " ('had', 1408),\n",
       " ('only', 1392)]"
      ]
     },
     "execution_count": 42,
     "metadata": {},
     "output_type": "execute_result"
    }
   ],
   "source": [
    "# Count the frequency of each word\n",
    "word_counts = Counter(words)\n",
    "top_words = word_counts.most_common(100)\n",
    "top_words"
   ]
  },
  {
   "cell_type": "code",
   "execution_count": 43,
   "id": "b0e7d876",
   "metadata": {
    "scrolled": false
   },
   "outputs": [
    {
     "data": {
      "image/png": "[encoded data removed]",
      "text/plain": [
       "<Figure size 640x480 with 1 Axes>"
      ]
     },
     "metadata": {},
     "output_type": "display_data"
    }
   ],
   "source": [
    "# Create a bar chart of the most common words\n",
    "top_words = word_counts.most_common(10) # Change the number to show more/less words\n",
    "x_values = [word[0] for word in top_words]\n",
    "y_values = [word[1] for word in top_words]\n",
    "plt.bar(x_values, y_values)\n",
    "plt.xlabel('Word')\n",
    "plt.ylabel('Frequency')\n",
    "plt.title('Most Commonly Used Words')\n",
    "plt.show()"
   ]
  },
  {
   "cell_type": "code",
   "execution_count": 44,
   "id": "d10186a8",
   "metadata": {},
   "outputs": [
    {
     "data": {
      "text/plain": [
       "1583"
      ]
     },
     "execution_count": 44,
     "metadata": {},
     "output_type": "execute_result"
    }
   ],
   "source": [
    "df['text']= df['tweet_text'].apply(clean_text)\n",
    "df['text'].duplicated().sum()"
   ]
  },
  {
   "cell_type": "code",
   "execution_count": 45,
   "id": "123effd9",
   "metadata": {},
   "outputs": [],
   "source": [
    "df.drop_duplicates(subset='text',keep='first', inplace=True)"
   ]
  },
  {
   "cell_type": "code",
   "execution_count": 46,
   "id": "0d661b9b",
   "metadata": {},
   "outputs": [
    {
     "data": {
      "text/plain": [
       "(44434, 4)"
      ]
     },
     "execution_count": 46,
     "metadata": {},
     "output_type": "execute_result"
    }
   ],
   "source": [
    "df.shape"
   ]
  },
  {
   "cell_type": "code",
   "execution_count": 47,
   "id": "c61b7840",
   "metadata": {},
   "outputs": [
    {
     "data": {
      "text/plain": [
       "cyberbullying_type\n",
       "religion               7956\n",
       "age                    7872\n",
       "ethnicity              7724\n",
       "not_cyberbullying      7594\n",
       "gender                 7580\n",
       "other_cyberbullying    5708\n",
       "Name: count, dtype: int64"
      ]
     },
     "execution_count": 47,
     "metadata": {},
     "output_type": "execute_result"
    }
   ],
   "source": [
    "df['cyberbullying_type'].value_counts()"
   ]
  },
  {
   "cell_type": "code",
   "execution_count": 48,
   "id": "c0577903",
   "metadata": {},
   "outputs": [
    {
     "data": {
      "text/html": [
       "<div>\n",
       "<style scoped>\n",
       "    .dataframe tbody tr th:only-of-type {\n",
       "        vertical-align: middle;\n",
       "    }\n",
       "\n",
       "    .dataframe tbody tr th {\n",
       "        vertical-align: top;\n",
       "    }\n",
       "\n",
       "    .dataframe thead th {\n",
       "        text-align: right;\n",
       "    }\n",
       "</style>\n",
       "<table border=\"1\" class=\"dataframe\">\n",
       "  <thead>\n",
       "    <tr style=\"text-align: right;\">\n",
       "      <th></th>\n",
       "      <th>length</th>\n",
       "    </tr>\n",
       "  </thead>\n",
       "  <tbody>\n",
       "    <tr>\n",
       "      <th>count</th>\n",
       "      <td>44434.000000</td>\n",
       "    </tr>\n",
       "    <tr>\n",
       "      <th>mean</th>\n",
       "      <td>140.844398</td>\n",
       "    </tr>\n",
       "    <tr>\n",
       "      <th>std</th>\n",
       "      <td>85.440941</td>\n",
       "    </tr>\n",
       "    <tr>\n",
       "      <th>min</th>\n",
       "      <td>3.000000</td>\n",
       "    </tr>\n",
       "    <tr>\n",
       "      <th>25%</th>\n",
       "      <td>83.000000</td>\n",
       "    </tr>\n",
       "    <tr>\n",
       "      <th>50%</th>\n",
       "      <td>127.000000</td>\n",
       "    </tr>\n",
       "    <tr>\n",
       "      <th>75%</th>\n",
       "      <td>193.000000</td>\n",
       "    </tr>\n",
       "    <tr>\n",
       "      <th>max</th>\n",
       "      <td>5018.000000</td>\n",
       "    </tr>\n",
       "  </tbody>\n",
       "</table>\n",
       "</div>"
      ],
      "text/plain": [
       "             length\n",
       "count  44434.000000\n",
       "mean     140.844398\n",
       "std       85.440941\n",
       "min        3.000000\n",
       "25%       83.000000\n",
       "50%      127.000000\n",
       "75%      193.000000\n",
       "max     5018.000000"
      ]
     },
     "execution_count": 48,
     "metadata": {},
     "output_type": "execute_result"
    }
   ],
   "source": [
    "df.describe()"
   ]
  },
  {
   "cell_type": "code",
   "execution_count": 49,
   "id": "e18bdb27",
   "metadata": {},
   "outputs": [
    {
     "data": {
      "text/plain": [
       "127.0"
      ]
     },
     "execution_count": 49,
     "metadata": {},
     "output_type": "execute_result"
    }
   ],
   "source": [
    "df['length'].median()"
   ]
  },
  {
   "cell_type": "code",
   "execution_count": 50,
   "id": "623c54e6",
   "metadata": {},
   "outputs": [
    {
     "name": "stdout",
     "output_type": "stream",
     "text": [
      "95th percentile of text length: 278.0\n"
     ]
    }
   ],
   "source": [
    "percentile_95 = df['length'].quantile(0.95)\n",
    "print(\"95th percentile of text length:\", percentile_95)"
   ]
  },
  {
   "cell_type": "code",
   "execution_count": 51,
   "id": "9e25a241",
   "metadata": {},
   "outputs": [
    {
     "name": "stdout",
     "output_type": "stream",
     "text": [
      "05th percentile of text length: 38.0\n"
     ]
    }
   ],
   "source": [
    "percentile_05 = df['length'].quantile(0.05)\n",
    "print(\"05th percentile of text length:\", percentile_05)"
   ]
  },
  {
   "cell_type": "code",
   "execution_count": null,
   "id": "c4addfde",
   "metadata": {},
   "outputs": [],
   "source": []
  },
  {
   "cell_type": "code",
   "execution_count": 52,
   "id": "b1c956a0",
   "metadata": {},
   "outputs": [],
   "source": [
    "df = df[df['length'] > percentile_05]\n",
    "df = df[df['length'] < percentile_95]"
   ]
  },
  {
   "cell_type": "code",
   "execution_count": 53,
   "id": "27f22b0c",
   "metadata": {},
   "outputs": [
    {
     "data": {
      "text/plain": [
       "cyberbullying_type\n",
       "ethnicity              7212\n",
       "age                    7132\n",
       "gender                 7055\n",
       "religion               6934\n",
       "not_cyberbullying      6517\n",
       "other_cyberbullying    5026\n",
       "Name: count, dtype: int64"
      ]
     },
     "execution_count": 53,
     "metadata": {},
     "output_type": "execute_result"
    }
   ],
   "source": [
    "df['cyberbullying_type'].value_counts()"
   ]
  },
  {
   "cell_type": "code",
   "execution_count": 54,
   "id": "3387ae9d",
   "metadata": {},
   "outputs": [],
   "source": [
    "df['hate_speech'] = df['cyberbullying_type'].apply(lambda x: 1 if x in types[1:] else 0)"
   ]
  },
  {
   "cell_type": "code",
   "execution_count": 55,
   "id": "74af4109",
   "metadata": {},
   "outputs": [],
   "source": [
    "num_zeros = df[df['hate_speech'] == 0].shape[0]"
   ]
  },
  {
   "cell_type": "code",
   "execution_count": 56,
   "id": "31865cef",
   "metadata": {},
   "outputs": [],
   "source": [
    "sampled_ones = df[df['hate_speech'] == 1].sample(n=num_zeros, random_state=42)"
   ]
  },
  {
   "cell_type": "code",
   "execution_count": 57,
   "id": "30f2142b",
   "metadata": {},
   "outputs": [],
   "source": [
    "df = pd.concat([df[df['hate_speech'] == 0], sampled_ones], axis=0)"
   ]
  },
  {
   "cell_type": "code",
   "execution_count": 58,
   "id": "3aa04c39",
   "metadata": {},
   "outputs": [
    {
     "data": {
      "text/plain": [
       "(13034, 5)"
      ]
     },
     "execution_count": 58,
     "metadata": {},
     "output_type": "execute_result"
    }
   ],
   "source": [
    "df.shape"
   ]
  },
  {
   "cell_type": "code",
   "execution_count": 59,
   "id": "2cb580a0",
   "metadata": {},
   "outputs": [
    {
     "data": {
      "text/plain": [
       "hate_speech\n",
       "0    6517\n",
       "1    6517\n",
       "Name: count, dtype: int64"
      ]
     },
     "execution_count": 59,
     "metadata": {},
     "output_type": "execute_result"
    }
   ],
   "source": [
    "df['hate_speech'].value_counts()"
   ]
  },
  {
   "cell_type": "code",
   "execution_count": 60,
   "id": "bc59d6db",
   "metadata": {},
   "outputs": [
    {
     "data": {
      "text/html": [
       "<div>\n",
       "<style scoped>\n",
       "    .dataframe tbody tr th:only-of-type {\n",
       "        vertical-align: middle;\n",
       "    }\n",
       "\n",
       "    .dataframe tbody tr th {\n",
       "        vertical-align: top;\n",
       "    }\n",
       "\n",
       "    .dataframe thead th {\n",
       "        text-align: right;\n",
       "    }\n",
       "</style>\n",
       "<table border=\"1\" class=\"dataframe\">\n",
       "  <thead>\n",
       "    <tr style=\"text-align: right;\">\n",
       "      <th></th>\n",
       "      <th>tweet_text</th>\n",
       "      <th>cyberbullying_type</th>\n",
       "      <th>length</th>\n",
       "      <th>text</th>\n",
       "      <th>hate_speech</th>\n",
       "    </tr>\n",
       "  </thead>\n",
       "  <tbody>\n",
       "    <tr>\n",
       "      <th>0</th>\n",
       "      <td>In other words #katandandre, your food was cra...</td>\n",
       "      <td>not_cyberbullying</td>\n",
       "      <td>61</td>\n",
       "      <td>word katandandr food crapilici mkr</td>\n",
       "      <td>0</td>\n",
       "    </tr>\n",
       "    <tr>\n",
       "      <th>1</th>\n",
       "      <td>Why is #aussietv so white? #MKR #theblock #ImA...</td>\n",
       "      <td>not_cyberbullying</td>\n",
       "      <td>115</td>\n",
       "      <td>aussietv white mkr theblock imacelebrityau tod...</td>\n",
       "      <td>0</td>\n",
       "    </tr>\n",
       "    <tr>\n",
       "      <th>2</th>\n",
       "      <td>@XochitlSuckkks a classy whore? Or more red ve...</td>\n",
       "      <td>not_cyberbullying</td>\n",
       "      <td>60</td>\n",
       "      <td>classi whore red velvet cupcak</td>\n",
       "      <td>0</td>\n",
       "    </tr>\n",
       "    <tr>\n",
       "      <th>3</th>\n",
       "      <td>@Jason_Gio meh. :P  thanks for the heads up, b...</td>\n",
       "      <td>not_cyberbullying</td>\n",
       "      <td>103</td>\n",
       "      <td>meh thank head concern anoth angri dude twitter</td>\n",
       "      <td>0</td>\n",
       "    </tr>\n",
       "    <tr>\n",
       "      <th>4</th>\n",
       "      <td>@RudhoeEnglish This is an ISIS account pretend...</td>\n",
       "      <td>not_cyberbullying</td>\n",
       "      <td>103</td>\n",
       "      <td>isi account pretend kurdish account like islam...</td>\n",
       "      <td>0</td>\n",
       "    </tr>\n",
       "  </tbody>\n",
       "</table>\n",
       "</div>"
      ],
      "text/plain": [
       "                                          tweet_text cyberbullying_type  \\\n",
       "0  In other words #katandandre, your food was cra...  not_cyberbullying   \n",
       "1  Why is #aussietv so white? #MKR #theblock #ImA...  not_cyberbullying   \n",
       "2  @XochitlSuckkks a classy whore? Or more red ve...  not_cyberbullying   \n",
       "3  @Jason_Gio meh. :P  thanks for the heads up, b...  not_cyberbullying   \n",
       "4  @RudhoeEnglish This is an ISIS account pretend...  not_cyberbullying   \n",
       "\n",
       "   length                                               text  hate_speech  \n",
       "0      61                 word katandandr food crapilici mkr            0  \n",
       "1     115  aussietv white mkr theblock imacelebrityau tod...            0  \n",
       "2      60                     classi whore red velvet cupcak            0  \n",
       "3     103    meh thank head concern anoth angri dude twitter            0  \n",
       "4     103  isi account pretend kurdish account like islam...            0  "
      ]
     },
     "execution_count": 60,
     "metadata": {},
     "output_type": "execute_result"
    }
   ],
   "source": [
    "df.head()"
   ]
  },
  {
   "cell_type": "markdown",
   "id": "fbb2d88f",
   "metadata": {},
   "source": [
    "# Model"
   ]
  },
  {
   "cell_type": "code",
   "execution_count": 61,
   "id": "4ff46ba3",
   "metadata": {},
   "outputs": [],
   "source": [
    "vec = TfidfVectorizer()\n",
    "le = LabelEncoder()"
   ]
  },
  {
   "cell_type": "code",
   "execution_count": 62,
   "id": "30460f0a",
   "metadata": {},
   "outputs": [],
   "source": [
    "X = df['text']\n",
    "y = df['hate_speech']"
   ]
  },
  {
   "cell_type": "code",
   "execution_count": 63,
   "id": "89748645",
   "metadata": {},
   "outputs": [],
   "source": [
    "y = le.fit_transform(y)"
   ]
  },
  {
   "cell_type": "code",
   "execution_count": 64,
   "id": "2ae65d75",
   "metadata": {},
   "outputs": [],
   "source": [
    "X_train, X_test, y_train, y_test = train_test_split(X, y, test_size=0.2, random_state=42)"
   ]
  },
  {
   "cell_type": "code",
   "execution_count": 65,
   "id": "4faf99f4",
   "metadata": {},
   "outputs": [],
   "source": [
    "#Random Forest\n",
    "pipeline_rf = Pipeline([\n",
    "    ('tfidf', TfidfVectorizer(max_features=5000)),\n",
    "    ('svd', TruncatedSVD(n_components=100)),\n",
    "    ('clf', RandomForestClassifier())\n",
    "    ])"
   ]
  },
  {
   "cell_type": "code",
   "execution_count": 66,
   "id": "4b876de1",
   "metadata": {},
   "outputs": [],
   "source": [
    "pipeline_rf.fit(X_train, y_train)\n",
    "predictions_rf = pipeline_rf.predict(X_test)"
   ]
  },
  {
   "cell_type": "code",
   "execution_count": 67,
   "id": "a4abcdf8",
   "metadata": {},
   "outputs": [],
   "source": [
    "#logistic Regression\n",
    "\n",
    "pipeline_lr = Pipeline([\n",
    "    ('tfidf', TfidfVectorizer(max_features=5000)),\n",
    "    ('svd', TruncatedSVD(n_components=100)),\n",
    "    ('clf', LogisticRegression(max_iter=10000))\n",
    "])\n"
   ]
  },
  {
   "cell_type": "code",
   "execution_count": 68,
   "id": "8a2383a4",
   "metadata": {},
   "outputs": [],
   "source": [
    "pipeline_lr.fit(X_train, y_train)\n",
    "predictions_lr = pipeline_lr.predict(X_test)"
   ]
  },
  {
   "cell_type": "code",
   "execution_count": 69,
   "id": "96b563eb",
   "metadata": {},
   "outputs": [],
   "source": [
    "# Naive Bayes\n",
    "pipeline_nb = Pipeline([\n",
    "    ('tfidf', TfidfVectorizer(max_features=5000)),\n",
    "    ('clf', MultinomialNB())\n",
    "])"
   ]
  },
  {
   "cell_type": "code",
   "execution_count": 70,
   "id": "36610e72",
   "metadata": {},
   "outputs": [],
   "source": [
    "pipeline_nb.fit(X_train, y_train)\n",
    "predictions_nb = pipeline_nb.predict(X_test)"
   ]
  },
  {
   "cell_type": "code",
   "execution_count": 71,
   "id": "046fc4d3",
   "metadata": {
    "scrolled": false
   },
   "outputs": [
    {
     "name": "stdout",
     "output_type": "stream",
     "text": [
      "RF Classification Report:\n",
      "              precision    recall  f1-score   support\n",
      "\n",
      "           0       0.82      0.87      0.84      1339\n",
      "           1       0.85      0.79      0.82      1268\n",
      "\n",
      "    accuracy                           0.83      2607\n",
      "   macro avg       0.84      0.83      0.83      2607\n",
      "weighted avg       0.83      0.83      0.83      2607\n",
      "\n",
      "\n",
      "Logistic Regression Classification Report:\n",
      "              precision    recall  f1-score   support\n",
      "\n",
      "           0       0.80      0.88      0.84      1339\n",
      "           1       0.86      0.76      0.81      1268\n",
      "\n",
      "    accuracy                           0.83      2607\n",
      "   macro avg       0.83      0.82      0.83      2607\n",
      "weighted avg       0.83      0.83      0.83      2607\n",
      "\n",
      "\n",
      "Naive Bayes Classification Report:\n",
      "              precision    recall  f1-score   support\n",
      "\n",
      "           0       0.82      0.71      0.76      1339\n",
      "           1       0.73      0.84      0.78      1268\n",
      "\n",
      "    accuracy                           0.77      2607\n",
      "   macro avg       0.78      0.77      0.77      2607\n",
      "weighted avg       0.78      0.77      0.77      2607\n",
      "\n"
     ]
    }
   ],
   "source": [
    "# Model Evaluation\n",
    "print(\"RF Classification Report:\")\n",
    "print(classification_report(y_test,predictions_rf))\n",
    "\n",
    "print(\"\\nLogistic Regression Classification Report:\")\n",
    "print(classification_report(y_test, predictions_lr))\n",
    "\n",
    "print(\"\\nNaive Bayes Classification Report:\")\n",
    "print(classification_report(y_test, predictions_nb))"
   ]
  },
  {
   "cell_type": "code",
   "execution_count": 72,
   "id": "b4dfb487",
   "metadata": {},
   "outputs": [
    {
     "data": {
      "image/png": "[encoded data removed]",
      "text/plain": [
       "<Figure size 800x600 with 2 Axes>"
      ]
     },
     "metadata": {},
     "output_type": "display_data"
    },
    {
     "data": {
      "image/png": "[encoded data removed]",
      "text/plain": [
       "<Figure size 800x600 with 2 Axes>"
      ]
     },
     "metadata": {},
     "output_type": "display_data"
    },
    {
     "data": {
      "image/png": "[encoded data removed]",
      "text/plain": [
       "<Figure size 800x600 with 2 Axes>"
      ]
     },
     "metadata": {},
     "output_type": "display_data"
    }
   ],
   "source": [
    "# Random Forest Confusion Matrix\n",
    "cm_rf = confusion_matrix(y_test, predictions_rf)\n",
    "plot_confusion_matrix(cm_rf, 'Random Forest Confusion Matrix')\n",
    "\n",
    "# Logistic Regression Confusion Matrix\n",
    "cm_lr = confusion_matrix(y_test, predictions_lr)\n",
    "plot_confusion_matrix(cm_lr, 'Logistic Regression Confusion Matrix')\n",
    "\n",
    "# Naive Bayes Confusion Matrix\n",
    "cm_nb = confusion_matrix(y_test, predictions_nb)\n",
    "plot_confusion_matrix(cm_nb, 'Naive Bayes Confusion Matrix')\n",
    "\n",
    "plt.show()\n"
   ]
  },
  {
   "cell_type": "code",
   "execution_count": null,
   "id": "523e433d",
   "metadata": {},
   "outputs": [],
   "source": []
  }
 ],
 "metadata": {
  "kernelspec": {
   "display_name": "Python 3 (ipykernel)",
   "language": "python",
   "name": "python3"
  },
  "language_info": {
   "codemirror_mode": {
    "name": "ipython",
    "version": 3
   },
   "file_extension": ".py",
   "mimetype": "text/x-python",
   "name": "python",
   "nbconvert_exporter": "python",
   "pygments_lexer": "ipython3",
   "version": "3.11.5"
  }
 },
 "nbformat": 4,
 "nbformat_minor": 5
}
